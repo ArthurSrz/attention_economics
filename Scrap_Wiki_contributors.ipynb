{
 "cells": [
  {
   "cell_type": "code",
   "execution_count": 1,
   "id": "c8a9e889-c920-4928-8cab-44ffbe444a0b",
   "metadata": {},
   "outputs": [],
   "source": [
    "#libraries\n",
    "import requests\n",
    "from bs4 import BeautifulSoup\n",
    "import pandas as pd\n",
    "import re\n",
    "import matplotlib.pyplot as plt\n",
    "import seaborn as sns"
   ]
  },
  {
   "cell_type": "code",
   "execution_count": 2,
   "id": "8deb2c27-ca05-470c-b87a-01cf27251b21",
   "metadata": {},
   "outputs": [],
   "source": [
    "page_tp1_response = requests.get('https://fr.wikiversity.org/w/index.php?title=Nouvelles_figures_de_l%E2%80%99utilisateur_dans_une_%C3%A9conomie_de_l%E2%80%99attention/Travail_pratique/Conception_de_l%E2%80%99espace-probl%C3%A8me&action=history')\n",
    "page_tp1 = page_tp1_response.content\n",
    "page_tp1_soup = BeautifulSoup(page_tp1, \"html.parser\")\n",
    "\n",
    "page_tp2_response = requests.get('https://fr.wikiversity.org/w/index.php?title=Nouvelles_figures_de_l%E2%80%99utilisateur_dans_une_%C3%A9conomie_de_l%E2%80%99attention/Travail_pratique/Analyse_des_attentes&action=history')\n",
    "page_tp2 = page_tp2_response.content\n",
    "page_tp2_soup = BeautifulSoup(page_tp2, \"html.parser\")\n",
    "\n",
    "\n",
    "page_syllabus_response = requests.get('https://fr.wikiversity.org/w/index.php?title=Nouvelles_figures_de_l%E2%80%99utilisateur_dans_une_%C3%A9conomie_de_l%E2%80%99attention&action=history')\n",
    "page_syllabus = page_syllabus_response.content\n",
    "page_syllabus_soup = BeautifulSoup(page_syllabus, \"html.parser\")\n",
    "\n",
    "page_chap1_response = requests.get('https://fr.wikiversity.org/w/index.php?title=Nouvelles_figures_de_l%E2%80%99utilisateur_dans_une_%C3%A9conomie_de_l%E2%80%99attention/L%27%C3%A9conomie_de_l%27attention_comme_espace-probl%C3%A8me&action=history')\n",
    "page_chap1 = page_chap1_response.content\n",
    "page_chap1_soup = BeautifulSoup(page_chap1, \"html.parser\")\n",
    "\n",
    "page_chap2_response = requests.get('https://fr.wikiversity.org/w/index.php?title=Nouvelles_figures_de_l%E2%80%99utilisateur_dans_une_%C3%A9conomie_de_l%E2%80%99attention/Analyse_des_attentes_des_nouvelles_figures_de_l%27utilisateur&action=history')\n",
    "page_chap2 = page_chap2_response.content\n",
    "page_chap2_soup = BeautifulSoup(page_chap2, \"html.parser\")\n",
    "\n",
    "page_chap3_response = requests.get('https://fr.wikiversity.org/w/index.php?title=Nouvelles_figures_de_l%E2%80%99utilisateur_dans_une_%C3%A9conomie_de_l%E2%80%99attention/Proposition_de_design_pour_un_dispositif_r%C3%A9pondant_aux_attentes&action=history')\n",
    "page_chap3 = page_chap3_response.content\n",
    "page_chap3_soup = BeautifulSoup(page_chap3, \"html.parser\")\n",
    "\n",
    "page_chap4_response = requests.get('https://fr.wikiversity.org/w/index.php?title=Nouvelles_figures_de_l%E2%80%99utilisateur_dans_une_%C3%A9conomie_de_l%E2%80%99attention/Prototypage_du_dispositif&action=history')\n",
    "page_chap4 = page_chap4_response.content\n",
    "page_chap4_soup = BeautifulSoup(page_chap4, \"html.parser\")"
   ]
  },
  {
   "cell_type": "code",
   "execution_count": 3,
   "id": "2d220f8d-dfc9-4eef-a974-a9e74aca72b0",
   "metadata": {},
   "outputs": [
    {
     "name": "stdout",
     "output_type": "stream",
     "text": [
      "228\n",
      "228\n"
     ]
    }
   ],
   "source": [
    "nom_contributeur = []\n",
    "page = []\n",
    "for nom in page_tp1_soup.select(\".history-user > a > bdi\"):\n",
    "    page.append('Conception Espace Problème')\n",
    "    nom_contributeur.append(nom.get_text())\n",
    "\n",
    "for nom in page_tp2_soup.select(\".history-user > a > bdi\"):\n",
    "    page.append('Analys des atentes')\n",
    "    nom_contributeur.append(nom.get_text())\n",
    "    \n",
    "for nom in page_syllabus_soup.select(\".history-user > a > bdi\"):\n",
    "    page.append('Syllabus')\n",
    "    nom_contributeur.append(nom.get_text())\n",
    "\n",
    "for nom in page_chap1_soup.select(\".history-user > a > bdi\"):\n",
    "    page.append('Chap1')\n",
    "    nom_contributeur.append(nom.get_text())\n",
    "\n",
    "for nom in page_chap2_soup.select(\".history-user > a > bdi\"):\n",
    "    page.append('Chap2')\n",
    "    nom_contributeur.append(nom.get_text())\n",
    "    \n",
    "for nom in page_chap3_soup.select(\".history-user > a > bdi\"):\n",
    "    page.append('Chap3')\n",
    "    nom_contributeur.append(nom.get_text())\n",
    "\n",
    "for nom in page_chap4_soup.select(\".history-user > a > bdi\"):\n",
    "    page.append('Chap4')\n",
    "    nom_contributeur.append(nom.get_text())\n",
    "\n",
    "print(len(page))\n",
    "print(len(nom_contributeur))"
   ]
  },
  {
   "cell_type": "code",
   "execution_count": 4,
   "id": "a094b2d7-c34e-41b3-a8e2-a6092bfdeadb",
   "metadata": {},
   "outputs": [
    {
     "name": "stdout",
     "output_type": "stream",
     "text": [
      "228\n"
     ]
    }
   ],
   "source": [
    "date_contribution = []\n",
    "for date in page_tp1_soup.select(\".mw-changeslist-date\"):\n",
    "    date_contribution.append(date.get_text())\n",
    "\n",
    "for date in page_tp2_soup.select(\".mw-changeslist-date\"):\n",
    "    date_contribution.append(date.get_text())\n",
    "\n",
    "for date in page_syllabus_soup.select(\".mw-changeslist-date\"):\n",
    "    date_contribution.append(date.get_text())\n",
    "\n",
    "for date in page_chap1_soup.select(\".mw-changeslist-date\"):\n",
    "    date_contribution.append(date.get_text())\n",
    "\n",
    "for date in page_chap2_soup.select(\".mw-changeslist-date\"):\n",
    "    date_contribution.append(date.get_text())\n",
    "\n",
    "for date in page_chap3_soup.select(\".mw-changeslist-date\"):\n",
    "    date_contribution.append(date.get_text())\n",
    "\n",
    "for date in page_chap4_soup.select(\".mw-changeslist-date\"):\n",
    "    date_contribution.append(date.get_text())\n",
    "\n",
    "print(len(date_contribution))"
   ]
  },
  {
   "cell_type": "code",
   "execution_count": 5,
   "id": "093ffcc0-f23c-4eba-97c2-2f293862ac73",
   "metadata": {},
   "outputs": [
    {
     "name": "stdout",
     "output_type": "stream",
     "text": [
      "228\n"
     ]
    }
   ],
   "source": [
    "volume_contribution = []\n",
    "for contrib in page_tp1_soup.select('[class^=mw-plusminus]'):\n",
    "    #print(contrib)\n",
    "    volume_contribution.append(contrib.get_text().replace(u'\\xa0', ' '))\n",
    "\n",
    "for contrib in page_tp2_soup.select('[class^=mw-plusminus]'):\n",
    "    #print(contrib)\n",
    "    volume_contribution.append(contrib.get_text().replace(u'\\xa0', ' '))\n",
    "\n",
    "for contrib in page_syllabus_soup.select('[class^=mw-plusminus]'):\n",
    "    #print(contrib)\n",
    "    volume_contribution.append(contrib.get_text().replace(u'\\xa0', ' '))\n",
    "\n",
    "for contrib in page_chap1_soup.select('[class^=mw-plusminus]'):\n",
    "    #print(contrib)\n",
    "    volume_contribution.append(contrib.get_text().replace(u'\\xa0', ' '))\n",
    "\n",
    "for contrib in page_chap2_soup.select('[class^=mw-plusminus]'):\n",
    "    #print(contrib)\n",
    "    volume_contribution.append(contrib.get_text().replace(u'\\xa0', ' '))\n",
    "\n",
    "for contrib in page_chap3_soup.select('[class^=mw-plusminus]'):\n",
    "    #print(contrib)\n",
    "    volume_contribution.append(contrib.get_text().replace(u'\\xa0', ' '))\n",
    "\n",
    "for contrib in page_chap4_soup.select('[class^=mw-plusminus]'):\n",
    "    #print(contrib)\n",
    "    volume_contribution.append(contrib.get_text().replace(u'\\xa0', ' '))\n",
    "    \n",
    "print(len(volume_contribution))"
   ]
  },
  {
   "cell_type": "code",
   "execution_count": 6,
   "id": "e6bbc001-c52d-439e-a591-a163e0ca6c26",
   "metadata": {},
   "outputs": [
    {
     "name": "stdout",
     "output_type": "stream",
     "text": [
      "228\n"
     ]
    }
   ],
   "source": [
    "volume_page = []\n",
    "for volume_total in page_tp1_soup.select(\".history-size\"):\n",
    "    #print(volume_total)\n",
    "    volume_page.append(volume_total.get_text().replace(u'\\xa0', ' '))\n",
    "\n",
    "for volume_total in page_tp2_soup.select(\".history-size\"):\n",
    "    #print(volume_total)\n",
    "    volume_page.append(volume_total.get_text().replace(u'\\xa0', ' '))\n",
    "\n",
    "for volume_total in page_syllabus_soup.select(\".history-size\"):\n",
    "    #print(volume_total)\n",
    "    volume_page.append(volume_total.get_text().replace(u'\\xa0', ' '))\n",
    "\n",
    "for volume_total in page_chap1_soup.select(\".history-size\"):\n",
    "    #print(volume_total)\n",
    "    volume_page.append(volume_total.get_text().replace(u'\\xa0', ' '))\n",
    "\n",
    "for volume_total in page_chap2_soup.select(\".history-size\"):\n",
    "    #print(volume_total)\n",
    "    volume_page.append(volume_total.get_text().replace(u'\\xa0', ' '))\n",
    "\n",
    "for volume_total in page_chap3_soup.select(\".history-size\"):\n",
    "    #print(volume_total)\n",
    "    volume_page.append(volume_total.get_text().replace(u'\\xa0', ' '))\n",
    "\n",
    "for volume_total in page_chap4_soup.select(\".history-size\"):\n",
    "    #print(volume_total)\n",
    "    volume_page.append(volume_total.get_text().replace(u'\\xa0', ' '))\n",
    "    \n",
    "print(len(volume_page))"
   ]
  },
  {
   "cell_type": "code",
   "execution_count": 7,
   "id": "ba8c01c0-a0ff-43ae-b2c7-d5c802ccffca",
   "metadata": {},
   "outputs": [
    {
     "name": "stdout",
     "output_type": "stream",
     "text": [
      "          date_contribution  nom_contributeur volume_contribution  \\\n",
      "0    2 janvier 2022 à 23:30  ThéodoraTomasini              +2 119   \n",
      "1    2 janvier 2022 à 22:54  ThéodoraTomasini                  +1   \n",
      "2  14 décembre 2021 à 10:23             Oyuzh                +437   \n",
      "3  14 décembre 2021 à 10:18             Oyuzh                +252   \n",
      "4  14 décembre 2021 à 10:14             Oyuzh                +222   \n",
      "\n",
      "     volume_page                        page  \n",
      "0  23 778 octets  Conception Espace Problème  \n",
      "1  21 659 octets  Conception Espace Problème  \n",
      "2  21 658 octets  Conception Espace Problème  \n",
      "3  21 221 octets  Conception Espace Problème  \n",
      "4  20 969 octets  Conception Espace Problème  \n"
     ]
    }
   ],
   "source": [
    "df = pd.DataFrame({'date_contribution':date_contribution, 'nom_contributeur':nom_contributeur,'volume_contribution':volume_contribution, 'volume_page':volume_page, 'page':page})\n",
    "#print(df.head())"
   ]
  }
 ],
 "metadata": {
  "kernelspec": {
   "display_name": "Python 3",
   "language": "python",
   "name": "python3"
  },
  "language_info": {
   "codemirror_mode": {
    "name": "ipython",
    "version": 3
   },
   "file_extension": ".py",
   "mimetype": "text/x-python",
   "name": "python",
   "nbconvert_exporter": "python",
   "pygments_lexer": "ipython3",
   "version": "3.8.8"
  }
 },
 "nbformat": 4,
 "nbformat_minor": 5
}
