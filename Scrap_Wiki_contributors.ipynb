{
 "cells": [
  {
   "cell_type": "code",
   "execution_count": 53,
   "id": "c8a9e889-c920-4928-8cab-44ffbe444a0b",
   "metadata": {},
   "outputs": [],
   "source": [
    "#libraries\n",
    "import requests\n",
    "from bs4 import BeautifulSoup\n",
    "import pandas as pd\n",
    "import re\n",
    "import matplotlib.pyplot as plt\n",
    "import seaborn as sns"
   ]
  },
  {
   "cell_type": "code",
   "execution_count": 54,
   "id": "8deb2c27-ca05-470c-b87a-01cf27251b21",
   "metadata": {},
   "outputs": [],
   "source": [
    "page_tp1_response = requests.get('https://fr.wikiversity.org/w/index.php?title=Nouvelles_figures_de_l%E2%80%99utilisateur_dans_une_%C3%A9conomie_de_l%E2%80%99attention/Travail_pratique/Conception_de_l%E2%80%99espace-probl%C3%A8me&action=history')\n",
    "page_tp1 = page_tp1_response.content\n",
    "page_tp1_soup = BeautifulSoup(page_tp1, \"html.parser\")\n",
    "\n",
    "page_tp2_response = requests.get('https://fr.wikiversity.org/w/index.php?title=Nouvelles_figures_de_l%E2%80%99utilisateur_dans_une_%C3%A9conomie_de_l%E2%80%99attention/Travail_pratique/Analyse_des_attentes&action=history')\n",
    "page_tp2 = page_tp2_response.content\n",
    "page_tp2_soup = BeautifulSoup(page_tp2, \"html.parser\")\n",
    "\n",
    "\n",
    "page_syllabus_response = requests.get('https://fr.wikiversity.org/w/index.php?title=Nouvelles_figures_de_l%E2%80%99utilisateur_dans_une_%C3%A9conomie_de_l%E2%80%99attention&action=history')\n",
    "page_syllabus = page_syllabus_response.content\n",
    "page_syllabus_soup = BeautifulSoup(page_syllabus, \"html.parser\")\n",
    "\n",
    "page_chap1_response = requests.get('https://fr.wikiversity.org/w/index.php?title=Nouvelles_figures_de_l%E2%80%99utilisateur_dans_une_%C3%A9conomie_de_l%E2%80%99attention/L%27%C3%A9conomie_de_l%27attention_comme_espace-probl%C3%A8me&action=history')\n",
    "page_chap1 = page_chap1_response.content\n",
    "page_chap1_soup = BeautifulSoup(page_chap1, \"html.parser\")\n",
    "\n",
    "page_chap2_response = requests.get('https://fr.wikiversity.org/w/index.php?title=Nouvelles_figures_de_l%E2%80%99utilisateur_dans_une_%C3%A9conomie_de_l%E2%80%99attention/Analyse_des_attentes_des_nouvelles_figures_de_l%27utilisateur&action=history')\n",
    "page_chap2 = page_chap2_response.content\n",
    "page_chap2_soup = BeautifulSoup(page_chap2, \"html.parser\")\n",
    "\n",
    "page_chap3_response = requests.get('https://fr.wikiversity.org/w/index.php?title=Nouvelles_figures_de_l%E2%80%99utilisateur_dans_une_%C3%A9conomie_de_l%E2%80%99attention/Proposition_de_design_pour_un_dispositif_r%C3%A9pondant_aux_attentes&action=history')\n",
    "page_chap3 = page_chap3_response.content\n",
    "page_chap3_soup = BeautifulSoup(page_chap3, \"html.parser\")\n",
    "\n",
    "page_chap4_response = requests.get('https://fr.wikiversity.org/w/index.php?title=Nouvelles_figures_de_l%E2%80%99utilisateur_dans_une_%C3%A9conomie_de_l%E2%80%99attention/Prototypage_du_dispositif&action=history')\n",
    "page_chap4 = page_chap4_response.content\n",
    "page_chap4_soup = BeautifulSoup(page_chap4, \"html.parser\")"
   ]
  },
  {
   "cell_type": "code",
   "execution_count": 55,
   "id": "2d220f8d-dfc9-4eef-a974-a9e74aca72b0",
   "metadata": {},
   "outputs": [
    {
     "name": "stdout",
     "output_type": "stream",
     "text": [
      "228\n",
      "228\n"
     ]
    }
   ],
   "source": [
    "nom_contributeur = []\n",
    "page = []\n",
    "for nom in page_tp1_soup.select(\".history-user > a > bdi\"):\n",
    "    page.append('Conception Espace Problème')\n",
    "    nom_contributeur.append(nom.get_text())\n",
    "\n",
    "for nom in page_tp2_soup.select(\".history-user > a > bdi\"):\n",
    "    page.append('Analys des atentes')\n",
    "    nom_contributeur.append(nom.get_text())\n",
    "    \n",
    "for nom in page_syllabus_soup.select(\".history-user > a > bdi\"):\n",
    "    page.append('Syllabus')\n",
    "    nom_contributeur.append(nom.get_text())\n",
    "\n",
    "for nom in page_chap1_soup.select(\".history-user > a > bdi\"):\n",
    "    page.append('Chap1')\n",
    "    nom_contributeur.append(nom.get_text())\n",
    "\n",
    "for nom in page_chap2_soup.select(\".history-user > a > bdi\"):\n",
    "    page.append('Chap2')\n",
    "    nom_contributeur.append(nom.get_text())\n",
    "    \n",
    "for nom in page_chap3_soup.select(\".history-user > a > bdi\"):\n",
    "    page.append('Chap3')\n",
    "    nom_contributeur.append(nom.get_text())\n",
    "\n",
    "for nom in page_chap4_soup.select(\".history-user > a > bdi\"):\n",
    "    page.append('Chap4')\n",
    "    nom_contributeur.append(nom.get_text())\n",
    "\n",
    "print(len(page))\n",
    "print(len(nom_contributeur))"
   ]
  },
  {
   "cell_type": "code",
   "execution_count": 56,
   "id": "a094b2d7-c34e-41b3-a8e2-a6092bfdeadb",
   "metadata": {},
   "outputs": [
    {
     "name": "stdout",
     "output_type": "stream",
     "text": [
      "228\n"
     ]
    }
   ],
   "source": [
    "date_contribution = []\n",
    "for date in page_tp1_soup.select(\".mw-changeslist-date\"):\n",
    "    date_contribution.append(date.get_text())\n",
    "\n",
    "for date in page_tp2_soup.select(\".mw-changeslist-date\"):\n",
    "    date_contribution.append(date.get_text())\n",
    "\n",
    "for date in page_syllabus_soup.select(\".mw-changeslist-date\"):\n",
    "    date_contribution.append(date.get_text())\n",
    "\n",
    "for date in page_chap1_soup.select(\".mw-changeslist-date\"):\n",
    "    date_contribution.append(date.get_text())\n",
    "\n",
    "for date in page_chap2_soup.select(\".mw-changeslist-date\"):\n",
    "    date_contribution.append(date.get_text())\n",
    "\n",
    "for date in page_chap3_soup.select(\".mw-changeslist-date\"):\n",
    "    date_contribution.append(date.get_text())\n",
    "\n",
    "for date in page_chap4_soup.select(\".mw-changeslist-date\"):\n",
    "    date_contribution.append(date.get_text())\n",
    "\n",
    "print(len(date_contribution))"
   ]
  },
  {
   "cell_type": "code",
   "execution_count": 57,
   "id": "093ffcc0-f23c-4eba-97c2-2f293862ac73",
   "metadata": {},
   "outputs": [
    {
     "name": "stdout",
     "output_type": "stream",
     "text": [
      "228\n"
     ]
    }
   ],
   "source": [
    "volume_contribution = []\n",
    "for contrib in page_tp1_soup.select('[class^=mw-plusminus]'):\n",
    "    #print(contrib)\n",
    "    volume_contribution.append(contrib.get_text().replace(u'\\xa0', ' '))\n",
    "\n",
    "for contrib in page_tp2_soup.select('[class^=mw-plusminus]'):\n",
    "    #print(contrib)\n",
    "    volume_contribution.append(contrib.get_text().replace(u'\\xa0', ' '))\n",
    "\n",
    "for contrib in page_syllabus_soup.select('[class^=mw-plusminus]'):\n",
    "    #print(contrib)\n",
    "    volume_contribution.append(contrib.get_text().replace(u'\\xa0', ' '))\n",
    "\n",
    "for contrib in page_chap1_soup.select('[class^=mw-plusminus]'):\n",
    "    #print(contrib)\n",
    "    volume_contribution.append(contrib.get_text().replace(u'\\xa0', ' '))\n",
    "\n",
    "for contrib in page_chap2_soup.select('[class^=mw-plusminus]'):\n",
    "    #print(contrib)\n",
    "    volume_contribution.append(contrib.get_text().replace(u'\\xa0', ' '))\n",
    "\n",
    "for contrib in page_chap3_soup.select('[class^=mw-plusminus]'):\n",
    "    #print(contrib)\n",
    "    volume_contribution.append(contrib.get_text().replace(u'\\xa0', ' '))\n",
    "\n",
    "for contrib in page_chap4_soup.select('[class^=mw-plusminus]'):\n",
    "    #print(contrib)\n",
    "    volume_contribution.append(contrib.get_text().replace(u'\\xa0', ' '))\n",
    "    \n",
    "print(len(volume_contribution))"
   ]
  },
  {
   "cell_type": "code",
   "execution_count": 58,
   "id": "e6bbc001-c52d-439e-a591-a163e0ca6c26",
   "metadata": {},
   "outputs": [
    {
     "name": "stdout",
     "output_type": "stream",
     "text": [
      "228\n"
     ]
    }
   ],
   "source": [
    "volume_page = []\n",
    "for volume_total in page_tp1_soup.select(\".history-size\"):\n",
    "    #print(volume_total)\n",
    "    volume_page.append(volume_total.get_text().replace(u'\\xa0', ' '))\n",
    "\n",
    "for volume_total in page_tp2_soup.select(\".history-size\"):\n",
    "    #print(volume_total)\n",
    "    volume_page.append(volume_total.get_text().replace(u'\\xa0', ' '))\n",
    "\n",
    "for volume_total in page_syllabus_soup.select(\".history-size\"):\n",
    "    #print(volume_total)\n",
    "    volume_page.append(volume_total.get_text().replace(u'\\xa0', ' '))\n",
    "\n",
    "for volume_total in page_chap1_soup.select(\".history-size\"):\n",
    "    #print(volume_total)\n",
    "    volume_page.append(volume_total.get_text().replace(u'\\xa0', ' '))\n",
    "\n",
    "for volume_total in page_chap2_soup.select(\".history-size\"):\n",
    "    #print(volume_total)\n",
    "    volume_page.append(volume_total.get_text().replace(u'\\xa0', ' '))\n",
    "\n",
    "for volume_total in page_chap3_soup.select(\".history-size\"):\n",
    "    #print(volume_total)\n",
    "    volume_page.append(volume_total.get_text().replace(u'\\xa0', ' '))\n",
    "\n",
    "for volume_total in page_chap4_soup.select(\".history-size\"):\n",
    "    #print(volume_total)\n",
    "    volume_page.append(volume_total.get_text().replace(u'\\xa0', ' '))\n",
    "    \n",
    "print(len(volume_page))"
   ]
  },
  {
   "cell_type": "code",
   "execution_count": 59,
   "id": "dc02c7d7-514d-4ca2-be9d-b66ab4ae7645",
   "metadata": {},
   "outputs": [
    {
     "name": "stdout",
     "output_type": "stream",
     "text": [
      "          date_contribution  nom_contributeur volume_contribution  \\\n",
      "0    2 janvier 2022 à 23:30  ThéodoraTomasini              +2 119   \n",
      "1    2 janvier 2022 à 22:54  ThéodoraTomasini                  +1   \n",
      "2  14 décembre 2021 à 10:23             Oyuzh                +437   \n",
      "3  14 décembre 2021 à 10:18             Oyuzh                +252   \n",
      "4  14 décembre 2021 à 10:14             Oyuzh                +222   \n",
      "\n",
      "     volume_page                        page  \n",
      "0  23 778 octets  Conception Espace Problème  \n",
      "1  21 659 octets  Conception Espace Problème  \n",
      "2  21 658 octets  Conception Espace Problème  \n",
      "3  21 221 octets  Conception Espace Problème  \n",
      "4  20 969 octets  Conception Espace Problème  \n"
     ]
    }
   ],
   "source": [
    "df = pd.DataFrame({'date_contribution':date_contribution, 'nom_contributeur':nom_contributeur,'volume_contribution':volume_contribution, 'volume_page':volume_page, 'page':page})\n",
    "print(df.head())"
   ]
  },
  {
   "cell_type": "code",
   "execution_count": 111,
   "id": "b77e5739-3591-4a96-a6fc-aec131a9b9e9",
   "metadata": {},
   "outputs": [
    {
     "name": "stderr",
     "output_type": "stream",
     "text": [
      "/opt/anaconda3/lib/python3.8/site-packages/seaborn/_decorators.py:36: FutureWarning: Pass the following variable as a keyword arg: x. From version 0.12, the only valid positional argument will be `data`, and passing other arguments without an explicit keyword will result in an error or misinterpretation.\n",
      "  warnings.warn(\n"
     ]
    },
    {
     "data": {
      "image/png": "[encoded data removed]",
      "text/plain": [
       "<Figure size 1440x720 with 1 Axes>"
      ]
     },
     "metadata": {
      "needs_background": "light"
     },
     "output_type": "display_data"
    }
   ],
   "source": [
    "#visualizing data\n",
    "\n",
    "plt.figure(figsize=(20,10))\n",
    "\n",
    "ax = sns.countplot(df[\"nom_contributeur\"], order=df[\"nom_contributeur\"].value_counts(ascending=False).index)\n",
    "plt.xticks(rotation=30)\n",
    "plt.title('Nombre de contributions par personne')\n",
    "plt.savefig('graphe_contribution.png')\n",
    "plt.show()"
   ]
  },
  {
   "cell_type": "code",
   "execution_count": 61,
   "id": "c06d80f5-24ce-4551-9b5e-8eb77a6e1e16",
   "metadata": {},
   "outputs": [],
   "source": [
    "df.to_csv('historiques contributions.csv')"
   ]
  },
  {
   "cell_type": "code",
   "execution_count": 62,
   "id": "8090f018-5162-4b41-8f93-0157132435c0",
   "metadata": {
    "collapsed": true,
    "jupyter": {
     "outputs_hidden": true
    },
    "tags": []
   },
   "outputs": [
    {
     "name": "stdout",
     "output_type": "stream",
     "text": [
      "                                         date_contribution  \\\n",
      "nom_contributeur                                             \n",
      "ArthurSrz                                               49   \n",
      "Lisa Houvet                                             27   \n",
      "Yohan Goubeau                                           24   \n",
      "ThéodoraTomasini                                        18   \n",
      "Amalie.wdl                                              17   \n",
      "Eudepgx                                                 12   \n",
      "ZoéCretin                                               11   \n",
      "Oyuzh                                                   10   \n",
      "Benoit Sandraz                                          10   \n",
      "Constance Calaya                                         9   \n",
      "Crochet.david                                            7   \n",
      "Nicolas Brethomé                                         7   \n",
      "130.190.37.211                                           6   \n",
      "Benjamin ORIAT                                           3   \n",
      "JackBot                                                  3   \n",
      "130.190.39.75                                            2   \n",
      "E2pgx                                                    2   \n",
      "92.154.34.235                                            1   \n",
      "130.190.84.89                                            1   \n",
      "130.190.119.131                                          1   \n",
      "Manon Callarec                                           1   \n",
      "2001:861:3382:c3f0:858e:da5f:a2b9:659b                   1   \n",
      "JackPotte                                                1   \n",
      "92.184.112.28                                            1   \n",
      "130.190.118.156                                          1   \n",
      "2a04:cec0:110a:49fa:a4f4:9b9d:76c6:f9b2                  1   \n",
      "46.193.4.103                                             1   \n",
      "103.112.55.73                                            1   \n",
      "\n",
      "                                         volume_contribution  volume_page  \\\n",
      "nom_contributeur                                                            \n",
      "ArthurSrz                                                 49           49   \n",
      "Lisa Houvet                                               27           27   \n",
      "Yohan Goubeau                                             24           24   \n",
      "ThéodoraTomasini                                          18           18   \n",
      "Amalie.wdl                                                17           17   \n",
      "Eudepgx                                                   12           12   \n",
      "ZoéCretin                                                 11           11   \n",
      "Oyuzh                                                     10           10   \n",
      "Benoit Sandraz                                            10           10   \n",
      "Constance Calaya                                           9            9   \n",
      "Crochet.david                                              7            7   \n",
      "Nicolas Brethomé                                           7            7   \n",
      "130.190.37.211                                             6            6   \n",
      "Benjamin ORIAT                                             3            3   \n",
      "JackBot                                                    3            3   \n",
      "130.190.39.75                                              2            2   \n",
      "E2pgx                                                      2            2   \n",
      "92.154.34.235                                              1            1   \n",
      "130.190.84.89                                              1            1   \n",
      "130.190.119.131                                            1            1   \n",
      "Manon Callarec                                             1            1   \n",
      "2001:861:3382:c3f0:858e:da5f:a2b9:659b                     1            1   \n",
      "JackPotte                                                  1            1   \n",
      "92.184.112.28                                              1            1   \n",
      "130.190.118.156                                            1            1   \n",
      "2a04:cec0:110a:49fa:a4f4:9b9d:76c6:f9b2                    1            1   \n",
      "46.193.4.103                                               1            1   \n",
      "103.112.55.73                                              1            1   \n",
      "\n",
      "                                         page  note_nb_contrib  \n",
      "nom_contributeur                                                \n",
      "ArthurSrz                                  49         5.444444  \n",
      "Lisa Houvet                                27         3.000000  \n",
      "Yohan Goubeau                              24         2.666667  \n",
      "ThéodoraTomasini                           18         2.000000  \n",
      "Amalie.wdl                                 17         1.888889  \n",
      "Eudepgx                                    12         1.333333  \n",
      "ZoéCretin                                  11         1.222222  \n",
      "Oyuzh                                      10         1.111111  \n",
      "Benoit Sandraz                             10         1.111111  \n",
      "Constance Calaya                            9         1.000000  \n",
      "Crochet.david                               7         0.777778  \n",
      "Nicolas Brethomé                            7         0.777778  \n",
      "130.190.37.211                              6         0.666667  \n",
      "Benjamin ORIAT                              3         0.333333  \n",
      "JackBot                                     3         0.333333  \n",
      "130.190.39.75                               2         0.222222  \n",
      "E2pgx                                       2         0.222222  \n",
      "92.154.34.235                               1         0.111111  \n",
      "130.190.84.89                               1         0.111111  \n",
      "130.190.119.131                             1         0.111111  \n",
      "Manon Callarec                              1         0.111111  \n",
      "2001:861:3382:c3f0:858e:da5f:a2b9:659b      1         0.111111  \n",
      "JackPotte                                   1         0.111111  \n",
      "92.184.112.28                               1         0.111111  \n",
      "130.190.118.156                             1         0.111111  \n",
      "2a04:cec0:110a:49fa:a4f4:9b9d:76c6:f9b2     1         0.111111  \n",
      "46.193.4.103                                1         0.111111  \n",
      "103.112.55.73                               1         0.111111  \n"
     ]
    }
   ],
   "source": [
    "df_contrib = df.groupby(['nom_contributeur']).count()\n",
    "df_contrib = df_contrib.sort_values(['date_contribution'], ascending = False)\n",
    "df_contrib['note_nb_contrib'] = df_contrib['date_contribution']*3/27\n",
    "print(df_contrib)\n",
    "df_contrib.to_csv('nombre de contributions per étudiants.csv')"
   ]
  },
  {
   "cell_type": "code",
   "execution_count": 63,
   "id": "db5a8951-b382-4b75-b969-adea898704b3",
   "metadata": {
    "collapsed": true,
    "jupyter": {
     "outputs_hidden": true
    },
    "tags": []
   },
   "outputs": [
    {
     "name": "stdout",
     "output_type": "stream",
     "text": [
      "date_contribution      object\n",
      "nom_contributeur       object\n",
      "volume_contribution     int64\n",
      "volume_page            object\n",
      "page                   object\n",
      "dtype: object\n",
      "                                         volume_contribution  note_vol_contrib\n",
      "nom_contributeur                                                              \n",
      "ArthurSrz                                              25814          7.061688\n",
      "Eudepgx                                                14622          4.000000\n",
      "ThéodoraTomasini                                       10892          2.979620\n",
      "Lisa Houvet                                             8664          2.370127\n",
      "Benoit Sandraz                                          7097          1.941458\n",
      "Yohan Goubeau                                           6474          1.771030\n",
      "Constance Calaya                                        5335          1.459445\n",
      "Benjamin ORIAT                                          4562          1.247982\n",
      "92.154.34.235                                           4356          1.191629\n",
      "Amalie.wdl                                              2638          0.721652\n",
      "ZoéCretin                                               2311          0.632198\n",
      "2001:861:3382:c3f0:858e:da5f:a2b9:659b                  1930          0.527972\n",
      "Oyuzh                                                   1589          0.434687\n",
      "130.190.84.89                                           1269          0.347148\n",
      "Crochet.david                                           1029          0.281494\n",
      "Nicolas Brethomé                                         755          0.206538\n",
      "2a04:cec0:110a:49fa:a4f4:9b9d:76c6:f9b2                  718          0.196416\n",
      "JackBot                                                  576          0.157571\n",
      "130.190.37.211                                           383          0.104774\n",
      "130.190.118.156                                          266          0.072767\n",
      "130.190.119.131                                          263          0.071946\n",
      "Manon Callarec                                           178          0.048694\n",
      "E2pgx                                                    159          0.043496\n",
      "130.190.39.75                                            140          0.038298\n",
      "46.193.4.103                                               7          0.001915\n",
      "92.184.112.28                                              6          0.001641\n",
      "JackPotte                                                  2          0.000547\n",
      "103.112.55.73                                              2          0.000547\n"
     ]
    }
   ],
   "source": [
    "df['volume_contribution'] = df['volume_contribution'].astype('string')\n",
    "df['volume_contribution'] = df['volume_contribution'].str.replace('+', ' ', regex=True)\n",
    "df['volume_contribution'] = df['volume_contribution'].str.replace('−', ' ', regex=True)\n",
    "df['volume_contribution'] = df['volume_contribution'].str.replace(' ', '', regex=True)\n",
    "df['volume_contribution'] = pd.to_numeric(df['volume_contribution'])\n",
    "print(df.dtypes)\n",
    "df_vol_contrib = df.groupby(['nom_contributeur']).sum()\n",
    "df_vol_contrib = df_vol_contrib.sort_values(['volume_contribution'], ascending = False)\n",
    "df_vol_contrib['note_vol_contrib'] = df_vol_contrib['volume_contribution']*4/14622\n",
    "print(df_vol_contrib)\n",
    "df_vol_contrib.to_csv('volume de contributions par étudiant.csv')"
   ]
  },
  {
   "cell_type": "code",
   "execution_count": 70,
   "id": "713f11c6-7830-488d-88d9-f0f691b7ff91",
   "metadata": {
    "collapsed": true,
    "jupyter": {
     "outputs_hidden": true
    },
    "tags": []
   },
   "outputs": [
    {
     "name": "stdout",
     "output_type": "stream",
     "text": [
      "                                         Nb_contrib  note_nb_contrib  \\\n",
      "nom_contributeur                                                       \n",
      "ArthurSrz                                        49         5.444444   \n",
      "Lisa Houvet                                      27         3.000000   \n",
      "Yohan Goubeau                                    24         2.666667   \n",
      "ThéodoraTomasini                                 18         2.000000   \n",
      "Amalie.wdl                                       17         1.888889   \n",
      "Eudepgx                                          12         1.333333   \n",
      "ZoéCretin                                        11         1.222222   \n",
      "Oyuzh                                            10         1.111111   \n",
      "Benoit Sandraz                                   10         1.111111   \n",
      "Constance Calaya                                  9         1.000000   \n",
      "Crochet.david                                     7         0.777778   \n",
      "Nicolas Brethomé                                  7         0.777778   \n",
      "130.190.37.211                                    6         0.666667   \n",
      "Benjamin ORIAT                                    3         0.333333   \n",
      "JackBot                                           3         0.333333   \n",
      "130.190.39.75                                     2         0.222222   \n",
      "E2pgx                                             2         0.222222   \n",
      "92.154.34.235                                     1         0.111111   \n",
      "130.190.84.89                                     1         0.111111   \n",
      "130.190.119.131                                   1         0.111111   \n",
      "Manon Callarec                                    1         0.111111   \n",
      "2001:861:3382:c3f0:858e:da5f:a2b9:659b            1         0.111111   \n",
      "JackPotte                                         1         0.111111   \n",
      "92.184.112.28                                     1         0.111111   \n",
      "130.190.118.156                                   1         0.111111   \n",
      "2a04:cec0:110a:49fa:a4f4:9b9d:76c6:f9b2           1         0.111111   \n",
      "46.193.4.103                                      1         0.111111   \n",
      "103.112.55.73                                     1         0.111111   \n",
      "\n",
      "                                         volume_contribution  \\\n",
      "nom_contributeur                                               \n",
      "ArthurSrz                                              25814   \n",
      "Lisa Houvet                                             8664   \n",
      "Yohan Goubeau                                           6474   \n",
      "ThéodoraTomasini                                       10892   \n",
      "Amalie.wdl                                              2638   \n",
      "Eudepgx                                                14622   \n",
      "ZoéCretin                                               2311   \n",
      "Oyuzh                                                   1589   \n",
      "Benoit Sandraz                                          7097   \n",
      "Constance Calaya                                        5335   \n",
      "Crochet.david                                           1029   \n",
      "Nicolas Brethomé                                         755   \n",
      "130.190.37.211                                           383   \n",
      "Benjamin ORIAT                                          4562   \n",
      "JackBot                                                  576   \n",
      "130.190.39.75                                            140   \n",
      "E2pgx                                                    159   \n",
      "92.154.34.235                                           4356   \n",
      "130.190.84.89                                           1269   \n",
      "130.190.119.131                                          263   \n",
      "Manon Callarec                                           178   \n",
      "2001:861:3382:c3f0:858e:da5f:a2b9:659b                  1930   \n",
      "JackPotte                                                  2   \n",
      "92.184.112.28                                              6   \n",
      "130.190.118.156                                          266   \n",
      "2a04:cec0:110a:49fa:a4f4:9b9d:76c6:f9b2                  718   \n",
      "46.193.4.103                                               7   \n",
      "103.112.55.73                                              2   \n",
      "\n",
      "                                         note_vol_contrib  note_collective  \n",
      "nom_contributeur                                                            \n",
      "ArthurSrz                                        7.061688                7  \n",
      "Lisa Houvet                                      2.370127                7  \n",
      "Yohan Goubeau                                    1.771030                7  \n",
      "ThéodoraTomasini                                 2.979620                7  \n",
      "Amalie.wdl                                       0.721652                7  \n",
      "Eudepgx                                          4.000000                7  \n",
      "ZoéCretin                                        0.632198                7  \n",
      "Oyuzh                                            0.434687                7  \n",
      "Benoit Sandraz                                   1.941458                7  \n",
      "Constance Calaya                                 1.459445                7  \n",
      "Crochet.david                                    0.281494                7  \n",
      "Nicolas Brethomé                                 0.206538                7  \n",
      "130.190.37.211                                   0.104774                7  \n",
      "Benjamin ORIAT                                   1.247982                7  \n",
      "JackBot                                          0.157571                7  \n",
      "130.190.39.75                                    0.038298                7  \n",
      "E2pgx                                            0.043496                7  \n",
      "92.154.34.235                                    1.191629                7  \n",
      "130.190.84.89                                    0.347148                7  \n",
      "130.190.119.131                                  0.071946                7  \n",
      "Manon Callarec                                   0.048694                7  \n",
      "2001:861:3382:c3f0:858e:da5f:a2b9:659b           0.527972                7  \n",
      "JackPotte                                        0.000547                7  \n",
      "92.184.112.28                                    0.001641                7  \n",
      "130.190.118.156                                  0.072767                7  \n",
      "2a04:cec0:110a:49fa:a4f4:9b9d:76c6:f9b2          0.196416                7  \n",
      "46.193.4.103                                     0.001915                7  \n",
      "103.112.55.73                                    0.000547                7  \n"
     ]
    }
   ],
   "source": [
    "df_final = pd.merge(df_contrib,df_vol_contrib, on='nom_contributeur')\n",
    "df_final.drop(['date_contribution','volume_contribution_x','volume_page'],axis=1, inplace=True)\n",
    "df_final.rename(columns={\"page\":\"Nb_contrib\",\"volume_contribution_y\":\"volume_contribution\"}, inplace=True)\n",
    "df_final['note_collective'] = 7\n",
    "df\n",
    "print(df_final)\n",
    "df_final.to_csv('notes_master_transitions.csv')"
   ]
  }
 ],
 "metadata": {
  "kernelspec": {
   "display_name": "Python 3",
   "language": "python",
   "name": "python3"
  },
  "language_info": {
   "codemirror_mode": {
    "name": "ipython",
    "version": 3
   },
   "file_extension": ".py",
   "mimetype": "text/x-python",
   "name": "python",
   "nbconvert_exporter": "python",
   "pygments_lexer": "ipython3",
   "version": "3.8.8"
  }
 },
 "nbformat": 4,
 "nbformat_minor": 5
}
